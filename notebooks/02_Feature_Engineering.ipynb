{
 "cells": [
  {
   "cell_type": "markdown",
   "metadata": {},
   "source": [
    "# Feature Engineering"
   ]
  },
  {
   "cell_type": "markdown",
   "metadata": {},
   "source": [
    "In this notebook, we will apply the preprocessing pipeline to our raw data and then engineer new features to improve our model's performance."
   ]
  },
  {
   "cell_type": "code",
   "execution_count": null,
   "metadata": {},
   "outputs": [],
   "source": [
    "import pandas as pd\n",
    "import numpy as np\n",
    "import sys\n",
    "sys.path.append('../')\n",
    "from src.data_preprocessing import preprocess_data\n",
    "\n",
    "# Load the raw datasets\n",
    "train_df = pd.read_csv('../data/raw/train.csv')\n",
    "test_df = pd.read_csv('../data/raw/test.csv')\n",
    "validation_df = pd.read_csv('../data/raw/validation.csv')\n",
    "\n",
    "print(\"Raw data loaded.\")"
   ]
  },
  {
   "cell_type": "markdown",
   "metadata": {},
   "source": [
    "## 1. Apply Preprocessing"
   ]
  },
  {
   "cell_type": "code",
   "execution_count": null,
   "metadata": {},
   "outputs": [],
   "source": [
    "# Apply the preprocessing function to each dataframe\n",
    "train_processed = preprocess_data(train_df)\n",
    "test_processed = preprocess_data(test_df)\n",
    "validation_processed = preprocess_data(validation_df)\n",
    "\n",
    "print(\"Preprocessing complete.\")"
   ]
  },
  {
   "cell_type": "markdown",
   "metadata": {},
   "source": [
    "## 2. Inspect Processed Data"
   ]
  },
  {
   "cell_type": "code",
   "execution_count": null,
   "metadata": {},
   "outputs": [],
   "source": [
    "# Display the first 5 rows of the processed training data\n",
    "train_processed.head()"
   ]
  },
  {
   "cell_type": "code",
   "execution_count": null,
   "metadata": {},
   "outputs": [],
   "source": [
    "# Get a summary of the processed training data\n",
    "train_processed.info()"
   ]
  },
  {
   "cell_type": "markdown",
   "metadata": {},
   "source": [
    "## 3. Feature Engineering"
   ]
  },
  {
   "cell_type": "code",
   "execution_count": null,
   "metadata": {},
   "outputs": [],
   "source": [
    "# Create tenure bins\n",
    "tenure_bins = [0, 12, 24, 48, 60, 73] # Max tenure is 72, so upper bound is 73\n",
    "tenure_labels = ['0-12 Months', '12-24 Months', '24-48 Months', '48-60 Months', '60-72 Months']\n",
    "\n",
    "for df in [train_processed, test_processed, validation_processed]:\n",
    "    df['Tenure Bins'] = pd.cut(df['Tenure in Months'], bins=tenure_bins, labels=tenure_labels, right=False)\n",
    "\n",
    "# One-hot encode the new 'Tenure Bins' column\n",
    "train_processed = pd.get_dummies(train_processed, columns=['Tenure Bins'], drop_first=True)\n",
    "test_processed = pd.get_dummies(test_processed, columns=['Tenure Bins'], drop_first=True)\n",
    "validation_processed = pd.get_dummies(validation_processed, columns=['Tenure Bins'], drop_first=True)\n",
    "\n",
    "# Drop the original 'Tenure in Months' column\n",
    "train_processed.drop(columns=['Tenure in Months'], inplace=True)\n",
    "test_processed.drop(columns=['Tenure in Months'], inplace=True)\n",
    "validation_processed.drop(columns=['Tenure in Months'], inplace=True)\n",
    "\n",
    "print(\"Feature engineering complete.\")\n",
    "train_processed.head()"
   ]
  },
  {
   "cell_type": "markdown",
   "metadata": {},
   "source": [
    "## 4. Save Processed Data"
   ]
  },
  {
   "cell_type": "code",
   "execution_count": null,
   "metadata": {},
   "outputs": [],
   "source": [
    "# Save the processed dataframes to the data/processed directory\n",
    "train_processed.to_csv('../data/processed/train_processed.csv', index=False)\n",
    "test_processed.to_csv('../data/processed/test_processed.csv', index=False)\n",
    "validation_processed.to_csv('../data/processed/validation_processed.csv', index=False)\n",
    "\n",
    "print(\"Processed data saved.\")"
   ]
  }
 ],
 "metadata": {
  "kernelspec": {
   "display_name": "Python 3",
   "language": "python",
   "name": "python3"
  },
  "language_info": {
   "name": "python",
   "version": "3.12.11"
  }
 },
 "nbformat": 4,
 "nbformat_minor": 2
}
